{
 "cells": [
  {
   "cell_type": "code",
   "execution_count": null,
   "id": "63e999ac-c081-41a2-930a-edd7eea4862d",
   "metadata": {},
   "outputs": [],
   "source": [
    "using Plots; pyplot()\n",
    "using Optim\n",
    "using ForwardDiff\n",
    "using NLsolve\n",
    "using Revise\n",
    "using LinearAlgebra\n",
    "using Printf\n",
    "using StringMethod\n",
    "using LaTeXStrings\n",
    "using TestLandscapes"
   ]
  },
  {
   "cell_type": "code",
   "execution_count": null,
   "id": "ea276859-09c5-441f-ac3c-238905b21421",
   "metadata": {},
   "outputs": [],
   "source": [
    "default(xtickfont=font(14),  ytickfont=font(14), guidefont=font(14), \n",
    "    legendfontsize=12, lw=2,ms=8)"
   ]
  },
  {
   "cell_type": "code",
   "execution_count": null,
   "id": "e3bc82b7-663f-48e4-a5d2-aac5c9fe8a19",
   "metadata": {},
   "outputs": [],
   "source": [
    "V = x-> Muller(x);\n",
    "min1 = optimize(V, [-0.75,1.5])\n",
    "x1 = min1.minimizer;\n",
    "min2 = optimize(V, [0.6,0.])\n",
    "x2 = min2.minimizer;\n",
    "min3 = optimize(V, [0.,0.5])\n",
    "x3 = min3.minimizer;"
   ]
  },
  {
   "cell_type": "code",
   "execution_count": null,
   "id": "618b3be0-7345-4b54-ba09-9cda1abb8ae5",
   "metadata": {},
   "outputs": [],
   "source": [
    "∇V = x -> ForwardDiff.gradient(V, x);"
   ]
  },
  {
   "cell_type": "code",
   "execution_count": null,
   "id": "a5805380-9b0d-4732-9749-856dc2bace6e",
   "metadata": {},
   "outputs": [],
   "source": [
    "saddle1 = nlsolve(∇V, [-1., 0.5]);\n",
    "s1 = saddle1.zero;\n",
    "saddle2 = nlsolve(∇V, [0.25, 0.3]);\n",
    "s2 = saddle2.zero;"
   ]
  },
  {
   "cell_type": "code",
   "execution_count": null,
   "id": "4b43214d-4f05-4770-a4ad-a49f880804fa",
   "metadata": {},
   "outputs": [],
   "source": [
    "xx =LinRange(-1.5, 1.5,500)\n",
    "yy = LinRange(-0.5, 2.0,500)\n",
    "V_vals = [V([x,y]) for y in yy, x in xx];\n",
    "# contour(xx,yy,min.(V_vals,500),\n",
    "#     levels = LinRange(-150,500,25),color=:viridis,colorbar_title=L\"$V$\")\n",
    "contour(xx,yy,min.(V_vals,500),\n",
    "    levels = LinRange(-150,500,25),color=:viridis,cbar=:none)\n",
    "\n",
    "xlabel!(L\"$x$\")\n",
    "ylabel!(L\"$y$\")\n",
    "scatter!([x1[1]], [x1[2]],color=:red, label=\"Minima\")\n",
    "scatter!([x2[1]], [x2[2]],color=:red, label=\"\")\n",
    "scatter!([x3[1]], [x3[2]],color=:red, label=\"\")\n",
    "scatter!([s1[1]], [s1[2]],color=:green, marker=:d, label=\"Saddles\")\n",
    "scatter!([s2[1]], [s2[2]],color=:green, marker=:d, label=\"\")"
   ]
  },
  {
   "cell_type": "code",
   "execution_count": null,
   "id": "2bdf664e-a137-41b8-a014-58baa6f15005",
   "metadata": {},
   "outputs": [],
   "source": [
    "U₀ = linear_string([0,-0.25], [0,1.5], 50)\n",
    "\n",
    "Δt = 1e-4;\n",
    "dist = (u,v)-> norm(u.-v,2);\n",
    "pin = false;\n",
    "\n",
    "string = SimplifiedString(∇V, stepRK4!, spline_reparametrize!, dist, pin, Δt);\n",
    "opts = StringOptions(verbose=true, save_trajectory=true)"
   ]
  },
  {
   "cell_type": "code",
   "execution_count": null,
   "id": "4def4e00-0f38-4674-8c19-83aa8672eec8",
   "metadata": {},
   "outputs": [],
   "source": [
    "U_trajectory = simplified_string(U₀, string, options = opts);"
   ]
  },
  {
   "cell_type": "code",
   "execution_count": null,
   "id": "ac9933c9-d34c-4c25-ab8d-0b150bcd5fc1",
   "metadata": {},
   "outputs": [],
   "source": [
    "U_trajectory[end]"
   ]
  },
  {
   "cell_type": "code",
   "execution_count": null,
   "id": "8eaccaa2-3bd1-4a81-a8fc-5bfb7ffaafcf",
   "metadata": {},
   "outputs": [],
   "source": [
    "xx =LinRange(-1.5, 1.5,250)\n",
    "yy = LinRange(-0.5, 2.0,250)\n",
    "V_vals = [V([x,y]) for y in yy, x in xx];\n",
    "contour(xx,yy,min.(V_vals,500),\n",
    "    levels = LinRange(-150,500,50),color=:viridis,cbar=:none)\n",
    "xlabel!(L\"$x$\")\n",
    "ylabel!(L\"$y$\")\n",
    "scatter!([x1[1]], [x1[2]],color=:red, label=\"Minima\")\n",
    "scatter!([x2[1]], [x2[2]],color=:red, label=\"\")\n",
    "scatter!([x3[1]], [x3[2]],color=:red, label=\"\")\n",
    "scatter!([s1[1]], [s1[2]],color=:green, marker=:d, label=\"Saddles\")\n",
    "scatter!([s2[1]], [s2[2]],color=:green, marker=:d, label=\"\")\n",
    "plot!([u_[1] for u_ in U_trajectory[end]], [u_[2] for u_ in U_trajectory[end]], \n",
    "    label=\"String\")\n",
    "savefig(\"muller_string.pdf\")"
   ]
  },
  {
   "cell_type": "code",
   "execution_count": null,
   "id": "a4f5b07b-5fee-4ee6-a1d8-169730376a08",
   "metadata": {},
   "outputs": [],
   "source": []
  }
 ],
 "metadata": {
  "kernelspec": {
   "display_name": "Julia 1.7.0",
   "language": "julia",
   "name": "julia-1.7"
  },
  "language_info": {
   "file_extension": ".jl",
   "mimetype": "application/julia",
   "name": "julia",
   "version": "1.7.1"
  }
 },
 "nbformat": 4,
 "nbformat_minor": 5
}
